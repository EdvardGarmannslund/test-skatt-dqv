{
 "cells": [
  {
   "cell_type": "markdown",
   "id": "05b71b52-0ea1-4cba-bc6d-4eed3b82cb17",
   "metadata": {},
   "source": [
    "# DKD kode eksempel notebook\n",
    "Denne notebooken brukes til å teste koden for dkd når man gjør eventuelle endrigner lokalt."
   ]
  },
  {
   "cell_type": "code",
   "execution_count": 1,
   "id": "0f454c90-39be-4c55-93d7-374e4421bd5f",
   "metadata": {},
   "outputs": [],
   "source": [
    "from pyspark.sql import SparkSession\n",
    "from pyspark.sql.types import *\n",
    "from datetime import date\n",
    "\n",
    "from src.skatt_dqv import dataQuality\n",
    "from src.skatt_dqv.expectations import *"
   ]
  },
  {
   "cell_type": "markdown",
   "id": "1198dcb8-e043-4155-afc9-e3d442ef18be",
   "metadata": {},
   "source": [
    "Lager test data."
   ]
  },
  {
   "cell_type": "code",
   "execution_count": 2,
   "id": "2c8680ae-a613-463b-8cfb-944ba033bbcd",
   "metadata": {},
   "outputs": [
    {
     "name": "stderr",
     "output_type": "stream",
     "text": [
      "25/08/06 13:46:26 WARN Utils: Your hostname, U2204i-0352 resolves to a loopback address: 127.0.1.1; using 10.207.73.55 instead (on interface ens160)\n",
      "25/08/06 13:46:26 WARN Utils: Set SPARK_LOCAL_IP if you need to bind to another address\n",
      "Setting default log level to \"WARN\".\n",
      "To adjust logging level use sc.setLogLevel(newLevel). For SparkR, use setLogLevel(newLevel).\n",
      "25/08/06 13:46:27 WARN NativeCodeLoader: Unable to load native-hadoop library for your platform... using builtin-java classes where applicable\n",
      "                                                                                "
     ]
    },
    {
     "name": "stdout",
     "output_type": "stream",
     "text": [
      "+---+-------+----------+------+----------+\n",
      "|id |product|date      |amount|sale_price|\n",
      "+---+-------+----------+------+----------+\n",
      "|1  |Widget |2023-05-01|10    |19.99     |\n",
      "|2  |Gadget |2023-05-02|5     |29.99     |\n",
      "|3  |Widget |2023-05-03|8     |NULL      |\n",
      "|4  |Widget |NULL      |10    |19.99     |\n",
      "|5  |Gadget |2023-05-05|NULL  |29.99     |\n",
      "|6  |Widget |2023-05-06|10000 |19.99     |\n",
      "|7  |Thingy |2023-05-07|2     |9999.99   |\n",
      "|8  |NULL   |2023-05-08|3     |15.5      |\n",
      "|9  |Gadget |2023-05-09|7     |29.99     |\n",
      "|10 |Widget |2023-05-10|5     |0.0       |\n",
      "|11 |Thingy |2023-05-11|0     |10.99     |\n",
      "|12 |Gadget |2023-05-12|3     |-5.0      |\n",
      "|13 |Widget |2023-05-13|-2    |19.99     |\n",
      "|14 |Gadget |2023-05-14|4     |29.99     |\n",
      "|15 |Thingy |2023-05-15|3     |15.5      |\n",
      "|16 |Widget |2023-05-16|5     |0.0       |\n",
      "|17 |Widget |2023-05-17|0     |19.99     |\n",
      "|18 |Gadget |2023-05-18|2     |29.99     |\n",
      "|19 |Widget |2023-05-01|10    |19.99     |\n",
      "|20 |Widget |2023-05-19|1     |100000.0  |\n",
      "+---+-------+----------+------+----------+\n",
      "\n"
     ]
    }
   ],
   "source": [
    "spark = SparkSession.builder.getOrCreate()\n",
    "\n",
    "data = [\n",
    "    (1, 'Widget', date(2023, 5, 1), 10, 19.99),\n",
    "    (2, 'Gadget', date(2023, 5, 2), 5, 29.99),\n",
    "    (3, 'Widget', date(2023, 5, 3), 8, None),               # Missing price\n",
    "    (4, 'Widget', None, 10, 19.99),                         # Missing date\n",
    "    (5, 'Gadget', date(2023, 5, 5), None, 29.99),           # Missing amount\n",
    "    (6, 'Widget', date(2023, 5, 6), 10000, 19.99),          # Extreme amount\n",
    "    (7, 'Thingy', date(2023, 5, 7), 2, 9999.99),            # Extreme price\n",
    "    (8, None, date(2023, 5, 8), 3, 15.50),                  # Missing product\n",
    "    (9, 'Gadget', date(2023, 5, 9), 7, 29.99),\n",
    "    (10, 'Widget', date(2023, 5, 10), 5, 0.0),              # Zero price\n",
    "    (11, 'Thingy', date(2023, 5, 11), 0, 10.99),            # Zero amount\n",
    "    (12, 'Gadget', date(2023, 5, 12), 3, -5.00),            # Negative price\n",
    "    (13, 'Widget', date(2023, 5, 13), -2, 19.99),           # Negative amount\n",
    "    (14, 'Gadget', date(2023, 5, 14), 4, 29.99),\n",
    "    (15, 'Thingy', date(2023, 5, 15), 3, 15.50),\n",
    "    (16, 'Widget', date(2023, 5, 16), 5, 0.0),           \n",
    "    (17, 'Widget', date(2023, 5, 17), 0, 19.99),       \n",
    "    (18, 'Gadget', date(2023, 5, 18), 2, 29.99),\n",
    "    (19, 'Widget', date(2023, 5, 1), 10, 19.99),            # Duplicate of row 1\n",
    "    (20, 'Widget', date(2023, 5, 19), 1, 100000.00),        # Extreme price\n",
    "]\n",
    "\n",
    "schema = StructType([\n",
    "    StructField(\"id\", IntegerType(), True),\n",
    "    StructField(\"product\", StringType(), True),\n",
    "    StructField(\"date\", DateType(), True),\n",
    "    StructField(\"amount\", IntegerType(), True),  # Use StringType to allow wrong types\n",
    "    StructField(\"sale_price\", FloatType(), True),\n",
    "])\n",
    "\n",
    "df = spark.createDataFrame(data, schema)\n",
    "df.show(truncate=False)\n"
   ]
  },
  {
   "cell_type": "markdown",
   "id": "955c8a13-70ac-481e-b956-ef30037b3fb5",
   "metadata": {},
   "source": [
    "Lager forventninger til datasettet."
   ]
  },
  {
   "cell_type": "code",
   "execution_count": 3,
   "id": "86a8f2ef-13f5-40fe-a122-1c146285f7d5",
   "metadata": {},
   "outputs": [],
   "source": [
    "product_not_null = dataQuality.expectation(\n",
    "    expectation_name = \"Product not null\",\n",
    "    expectation_test = value_not_null,\n",
    "    expectation_id = \"F1\",\n",
    "    expectation_description = \"Product need to be id to get correct info from reference table.\",\n",
    "    quality_dimension = \"Fullstendighet\",\n",
    "    # Resten av parameterne er ikke nødvendig for denne testen. De er kun her for å vise alt som kan mulig inngå i en forventning.\n",
    "    regex = None,\n",
    "    sql_filter = None,\n",
    "    args = None,\n",
    "    path = None,\n",
    "    value_set = None,\n",
    ")\n",
    "\n",
    "sales_above_zero = dataQuality.expectation(\n",
    "    expectation_name = \"Sales less zero\",\n",
    "    expectation_test = value_is_less_then,\n",
    "    expectation_id = \"F2\",\n",
    "    expectation_description = \"Product sales are above zero.\",\n",
    "    quality_dimension = \"Gyldighet\",\n",
    "    # Resten av parameterne er ikke nødvendig for denne testen. De er kun her for å vise alt som kan mulig inngå i en forventning.\n",
    "    regex = None,\n",
    "    sql_filter = None,\n",
    "    args = 1,\n",
    "    path = None,\n",
    "    value_set = None,\n",
    ")"
   ]
  },
  {
   "cell_type": "markdown",
   "id": "cb062e25-3cdd-476c-8e1f-a2eb3300f248",
   "metadata": {},
   "source": [
    "Kjører datakvalitetstest"
   ]
  },
  {
   "cell_type": "code",
   "execution_count": 4,
   "id": "faba9f80-1d84-4be2-9e30-ab76686dcd5a",
   "metadata": {},
   "outputs": [],
   "source": [
    "test_dkd = dataQuality.data_quality_test(\n",
    "    spark_df = df,\n",
    "    column_expectations = {\n",
    "        \"product\":[product_not_null],\n",
    "        \"amount\":[sales_above_zero],\n",
    "    },\n",
    "    uuid_columns = [\"id\",\"date\"]\n",
    ")\n",
    "\n",
    "df_rows, df_agg, df_ref = test_dkd.run_validation()"
   ]
  },
  {
   "cell_type": "code",
   "execution_count": 5,
   "id": "d8466bb4-81ec-4c37-8f9d-84744fe7866c",
   "metadata": {},
   "outputs": [
    {
     "name": "stdout",
     "output_type": "stream",
     "text": [
      "+---+----------+--------------+-------+\n",
      "| id|      date|forventning_id|kolonne|\n",
      "+---+----------+--------------+-------+\n",
      "|  8|2023-05-08|            F1|product|\n",
      "| 11|2023-05-11|            F2| amount|\n",
      "| 13|2023-05-13|            F2| amount|\n",
      "| 17|2023-05-17|            F2| amount|\n",
      "+---+----------+--------------+-------+\n",
      "\n"
     ]
    }
   ],
   "source": [
    "df_rows.show()"
   ]
  },
  {
   "cell_type": "code",
   "execution_count": 6,
   "id": "65335fb3-946b-424b-bd95-737f5c444ecf",
   "metadata": {},
   "outputs": [
    {
     "data": {
      "text/html": [
       "<div>\n",
       "<style scoped>\n",
       "    .dataframe tbody tr th:only-of-type {\n",
       "        vertical-align: middle;\n",
       "    }\n",
       "\n",
       "    .dataframe tbody tr th {\n",
       "        vertical-align: top;\n",
       "    }\n",
       "\n",
       "    .dataframe thead th {\n",
       "        text-align: right;\n",
       "    }\n",
       "</style>\n",
       "<table border=\"1\" class=\"dataframe\">\n",
       "  <thead>\n",
       "    <tr style=\"text-align: right;\">\n",
       "      <th></th>\n",
       "      <th>forventning_id</th>\n",
       "      <th>kolonne</th>\n",
       "      <th>resultat</th>\n",
       "      <th>dimensjon</th>\n",
       "      <th>testkjoering_tidspunkt</th>\n",
       "    </tr>\n",
       "  </thead>\n",
       "  <tbody>\n",
       "    <tr>\n",
       "      <th>0</th>\n",
       "      <td>F1</td>\n",
       "      <td>product</td>\n",
       "      <td>0.95</td>\n",
       "      <td>Fullstendighet</td>\n",
       "      <td>2025-08-06 13:46:37</td>\n",
       "    </tr>\n",
       "    <tr>\n",
       "      <th>1</th>\n",
       "      <td>F2</td>\n",
       "      <td>amount</td>\n",
       "      <td>0.85</td>\n",
       "      <td>Gyldighet</td>\n",
       "      <td>2025-08-06 13:46:37</td>\n",
       "    </tr>\n",
       "  </tbody>\n",
       "</table>\n",
       "</div>"
      ],
      "text/plain": [
       "  forventning_id  kolonne  resultat       dimensjon testkjoering_tidspunkt\n",
       "0             F1  product      0.95  Fullstendighet    2025-08-06 13:46:37\n",
       "1             F2   amount      0.85       Gyldighet    2025-08-06 13:46:37"
      ]
     },
     "execution_count": 6,
     "metadata": {},
     "output_type": "execute_result"
    }
   ],
   "source": [
    "df_agg"
   ]
  },
  {
   "cell_type": "code",
   "execution_count": 7,
   "id": "db6131c0-a3fc-4f60-a561-8997e6567adf",
   "metadata": {},
   "outputs": [
    {
     "data": {
      "text/html": [
       "<div>\n",
       "<style scoped>\n",
       "    .dataframe tbody tr th:only-of-type {\n",
       "        vertical-align: middle;\n",
       "    }\n",
       "\n",
       "    .dataframe tbody tr th {\n",
       "        vertical-align: top;\n",
       "    }\n",
       "\n",
       "    .dataframe thead th {\n",
       "        text-align: right;\n",
       "    }\n",
       "</style>\n",
       "<table border=\"1\" class=\"dataframe\">\n",
       "  <thead>\n",
       "    <tr style=\"text-align: right;\">\n",
       "      <th></th>\n",
       "      <th>forventning_id</th>\n",
       "      <th>kolonne</th>\n",
       "      <th>dimensjon</th>\n",
       "      <th>forventning</th>\n",
       "    </tr>\n",
       "  </thead>\n",
       "  <tbody>\n",
       "    <tr>\n",
       "      <th>0</th>\n",
       "      <td>F1</td>\n",
       "      <td>product</td>\n",
       "      <td>Fullstendighet</td>\n",
       "      <td>Product need to be id to get correct info from...</td>\n",
       "    </tr>\n",
       "    <tr>\n",
       "      <th>0</th>\n",
       "      <td>F2</td>\n",
       "      <td>amount</td>\n",
       "      <td>Gyldighet</td>\n",
       "      <td>Product sales are above zero.</td>\n",
       "    </tr>\n",
       "  </tbody>\n",
       "</table>\n",
       "</div>"
      ],
      "text/plain": [
       "  forventning_id  kolonne       dimensjon  \\\n",
       "0             F1  product  Fullstendighet   \n",
       "0             F2   amount       Gyldighet   \n",
       "\n",
       "                                         forventning  \n",
       "0  Product need to be id to get correct info from...  \n",
       "0                      Product sales are above zero.  "
      ]
     },
     "execution_count": 7,
     "metadata": {},
     "output_type": "execute_result"
    }
   ],
   "source": [
    "df_ref"
   ]
  }
 ],
 "metadata": {
  "kernelspec": {
   "display_name": "test-skatt-dqv",
   "language": "python",
   "name": "test-skatt-dqv"
  },
  "language_info": {
   "codemirror_mode": {
    "name": "ipython",
    "version": 3
   },
   "file_extension": ".py",
   "mimetype": "text/x-python",
   "name": "python",
   "nbconvert_exporter": "python",
   "pygments_lexer": "ipython3",
   "version": "3.10.12"
  }
 },
 "nbformat": 4,
 "nbformat_minor": 5
}
